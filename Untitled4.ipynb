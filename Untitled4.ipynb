{
  "nbformat": 4,
  "nbformat_minor": 0,
  "metadata": {
    "colab": {
      "provenance": [],
      "authorship_tag": "ABX9TyNVKQLnHGu4waLMQThDdzW/",
      "include_colab_link": true
    },
    "kernelspec": {
      "name": "python3",
      "display_name": "Python 3"
    },
    "language_info": {
      "name": "python"
    }
  },
  "cells": [
    {
      "cell_type": "markdown",
      "metadata": {
        "id": "view-in-github",
        "colab_type": "text"
      },
      "source": [
        "<a href=\"https://colab.research.google.com/github/sepidehniyazi/insurance/blob/main/Untitled4.ipynb\" target=\"_parent\"><img src=\"https://colab.research.google.com/assets/colab-badge.svg\" alt=\"Open In Colab\"/></a>"
      ]
    },
    {
      "cell_type": "code",
      "execution_count": 1,
      "metadata": {
        "colab": {
          "base_uri": "https://localhost:8080/"
        },
        "id": "PniHDmuCiE3V",
        "outputId": "e011b977-b9b0-4fa8-a912-1ad82b7cdb67"
      },
      "outputs": [
        {
          "output_type": "stream",
          "name": "stdout",
          "text": [
            "Accuracy: 0.93\n"
          ]
        }
      ],
      "source": [
        "from sklearn import datasets\n",
        "from sklearn.svm import SVC\n",
        "from sklearn.model_selection import train_test_split\n",
        "from sklearn.metrics import accuracy_score\n",
        "import numpy as np\n",
        "\n",
        "# بارگذاری داده‌های مجموعه Iris\n",
        "iris = datasets.load_iris()\n",
        "X, y = iris.data, iris.target\n",
        "\n",
        "# افزودن نویز به داده‌ها\n",
        "noise = np.random.randn(X.shape[0], X.shape[1]) * 0.5\n",
        "X = X + noise  # اضافه کردن نویز به داده‌های ویژگی\n",
        "\n",
        "# تقسیم داده‌ها به مجموعه‌های آموزشی و تست\n",
        "X_train, X_test, y_train, y_test = train_test_split(X, y, test_size=0.3, random_state=42)\n",
        "\n",
        "# ساخت و آموزش مدل SVM\n",
        "svm_classifier = SVC(kernel='linear')  # انتخاب کرنل خطی\n",
        "svm_classifier.fit(X_train, y_train)\n",
        "\n",
        "# پیش‌بینی بر روی داده‌های تست\n",
        "y_pred = svm_classifier.predict(X_test)\n",
        "\n",
        "# محاسبه دقت مدل\n",
        "accuracy = accuracy_score(y_test, y_pred)\n",
        "print(f\"Accuracy: {accuracy:.2f}\")"
      ]
    }
  ]
}